{
 "cells": [
  {
   "cell_type": "markdown",
   "id": "613e5eb2",
   "metadata": {},
   "source": [
    "# Brexit - the data analysis\n",
    "\n",
    "We start, as usual, by importing all the libraries we need."
   ]
  },
  {
   "cell_type": "code",
   "execution_count": null,
   "id": "44833434",
   "metadata": {},
   "outputs": [],
   "source": [
    "# Import Numpy library, rename as \"np\"\n",
    "import numpy as np\n",
    "# Import Pandas library, rename as \"pd\"\n",
    "import pandas as pd\n",
    "# Turn on a setting to use Pandas more safely.\n",
    "# We will discuss this setting later.\n",
    "pd.set_option('mode.chained_assignment', 'raise')"
   ]
  },
  {
   "cell_type": "code",
   "execution_count": null,
   "id": "bc3b0325",
   "metadata": {},
   "outputs": [],
   "source": [
    "# Also - set up plotting\n",
    "import matplotlib.pyplot as plt\n",
    "%matplotlib inline\n",
    "plt.style.use('fivethirtyeight')"
   ]
  },
  {
   "cell_type": "markdown",
   "id": "f783cd4f",
   "metadata": {},
   "source": [
    "Then load the test library to run the tests for your answers."
   ]
  },
  {
   "cell_type": "code",
   "execution_count": null,
   "id": "d9b717fa",
   "metadata": {},
   "outputs": [],
   "source": [
    "# Load the OKpy test library and tests.\n",
    "from client.api.notebook import Notebook\n",
    "ok = Notebook('brexiteering.ok')"
   ]
  },
  {
   "cell_type": "markdown",
   "id": "31e4748d",
   "metadata": {},
   "source": [
    "See the [Brexit survey](https:/olsonac.github.io/textbook/data/brexit_survey) for details on the survey data.\n",
    "\n",
    "If you unpacked this notebook from an OKpy exercise zip, you should have this\n",
    "file in the same directory as the notebook.  If not, you can [download the\n",
    "data file](https:/olsonac.github.io/textbook/data/audit_of_political_engagement_14_2017.tab)\n",
    "to this directory.\n",
    "\n",
    "In the moment, we are going to try and analyze these data.  We will focus on\n",
    "two questions labeled `cut15` and `numage`.  `cut15` is the question about\n",
    "Brexit. The data dictionary has the *variable label* “CUT15 - How did you vote\n",
    "on the question ‘Should the United Kingdom remain a member of the European\n",
    "Union or leave the European Union’?”.  The recorded values run from 1 through\n",
    "6 and have the following labels:\n",
    "\n",
    "```\n",
    "Value label information for cut15\n",
    "Value = 1.0    Label = Remain a member of the European Union\n",
    "Value = 2.0    Label = Leave the European Union\n",
    "Value = 3.0    Label = Did not vote\n",
    "Value = 4.0    Label = Too young\n",
    "Value = 5.0    Label = Can't remember\n",
    "Value = 6.0    Label = Refused\n",
    "```\n",
    "\n",
    "We also want the variable `numage`; this is the age of the respondent in years."
   ]
  },
  {
   "cell_type": "markdown",
   "id": "0a1c772a",
   "metadata": {},
   "source": [
    "The data file that is `audit_of_political_engagement_14_2017.tab`.  The cell\n",
    "below loads the data file into memory with Pandas:\n",
    "\n",
    "Notice the `.tab` extension for this file.  This file is just like the `.csv`\n",
    "(Comma Separated Values) files you have already seen, but the values are\n",
    "separated by a different character. Instead of being separated by commas ---\n",
    "`,` --- they are separated by a character called Tab.  We tell Pandas about\n",
    "this in the cell below."
   ]
  },
  {
   "cell_type": "code",
   "execution_count": null,
   "id": "4457020c",
   "metadata": {},
   "outputs": [],
   "source": [
    "# Load the data frame, and put it in the variable \"audit_data\"\n",
    "# The values are SEParated by Tabs - \\t in the code below.\n",
    "audit_data = pd.read_csv('audit_of_political_engagement_14_2017.tab',\n",
    "                         sep='\\t')\n",
    "# Show the first 5 rows.\n",
    "audit_data.head()"
   ]
  },
  {
   "cell_type": "markdown",
   "id": "566eacc2",
   "metadata": {},
   "source": [
    "As you know, we now have a *data frame*:"
   ]
  },
  {
   "cell_type": "code",
   "execution_count": null,
   "id": "a065a308",
   "metadata": {},
   "outputs": [],
   "source": [
    "type(audit_data)"
   ]
  },
  {
   "cell_type": "markdown",
   "id": "a191fa35",
   "metadata": {},
   "source": [
    "The data frame has one row per person surveyed, and one column for each\n",
    "question in the survey.  The columns have kind-of helpful names that you can\n",
    "read about in the data dictionary."
   ]
  },
  {
   "cell_type": "markdown",
   "id": "2d87f99e",
   "metadata": {},
   "source": [
    "The data frame has columns for all the questions listed in the data\n",
    "dictionary:"
   ]
  },
  {
   "cell_type": "code",
   "execution_count": null,
   "id": "683f6696",
   "metadata": {},
   "outputs": [],
   "source": [
    "audit_data.columns"
   ]
  },
  {
   "cell_type": "markdown",
   "id": "a796b9c5",
   "metadata": {},
   "source": [
    "To reduce clutter, we first make a new data frame that just has the two\n",
    "questions we are interested in:\n"
   ]
  },
  {
   "cell_type": "code",
   "execution_count": null,
   "id": "18c4be0e",
   "metadata": {},
   "outputs": [],
   "source": [
    "# Select the age and Brexit vote questions only\n",
    "# Don't worry about the details of this cell, we will cover this later.\n",
    "mini_brexit = pd.DataFrame()\n",
    "mini_brexit['numage'] = audit_data['numage'].copy()\n",
    "mini_brexit['cut15'] = audit_data['cut15'].copy()\n",
    "mini_brexit.head()"
   ]
  },
  {
   "cell_type": "markdown",
   "id": "391f24ac",
   "metadata": {},
   "source": [
    "To get started on exploring, we make a new variable `ages` that refers to the\n",
    "`numage` column in the `mini_brexit` data frame."
   ]
  },
  {
   "cell_type": "code",
   "execution_count": null,
   "id": "269c4204",
   "metadata": {},
   "outputs": [],
   "source": [
    "# Make a new variable \"ages\" that refers to the \"numage\" column in\n",
    "# \"mini_brexit\"\n",
    "ages = mini_brexit[\"numage\"]"
   ]
  },
  {
   "cell_type": "markdown",
   "id": "3dee6482",
   "metadata": {},
   "source": [
    "Confirm that `ages` has a value of type `Series`, the Pandas type for a column of a data frame:"
   ]
  },
  {
   "cell_type": "code",
   "execution_count": null,
   "id": "00c41f93",
   "metadata": {},
   "outputs": [],
   "source": [
    "type(ages)"
   ]
  },
  {
   "cell_type": "markdown",
   "id": "3449072a",
   "metadata": {},
   "source": [
    "Here are the numbers of rows, columns in the original data frame:"
   ]
  },
  {
   "cell_type": "code",
   "execution_count": null,
   "id": "38ec82f4",
   "metadata": {},
   "outputs": [],
   "source": [
    "audit_data.shape"
   ]
  },
  {
   "cell_type": "markdown",
   "id": "d23042cb",
   "metadata": {},
   "source": [
    "Run the cell below to confirm that `ages` has the same number of values, as\n",
    "`audit_data` has rows.  To do this, we can use the `len` function, as applied\n",
    "to the `ages` Series.  It returns the number of values."
   ]
  },
  {
   "cell_type": "code",
   "execution_count": null,
   "id": "5b7072fe",
   "metadata": {},
   "outputs": [],
   "source": [
    "len(ages)"
   ]
  },
  {
   "cell_type": "markdown",
   "id": "c0747ff7",
   "metadata": {},
   "source": [
    "In fact, `len`, as applied to the *data frame*, returns the number of rows:"
   ]
  },
  {
   "cell_type": "code",
   "execution_count": null,
   "id": "f5ccbcf3",
   "metadata": {},
   "outputs": [],
   "source": [
    "len(audit_data)"
   ]
  },
  {
   "cell_type": "markdown",
   "id": "01045528",
   "metadata": {},
   "source": [
    "Start by doing a histogram of the values in `ages` (which are also the values\n",
    "in the `numage` column of `mini_brexit`).  If you can't remember how to do\n",
    "histograms, have a look at the [introduction to data\n",
    "frames](https:/olsonac.github.io/textbook/data-frames/data_frame_intro)\n",
    "notebook.   Hint: consider using the `hist`\n",
    "method of the `ages` variable."
   ]
  },
  {
   "cell_type": "code",
   "execution_count": null,
   "id": "b5abb3a2",
   "metadata": {},
   "outputs": [],
   "source": [
    "#- Do a histogram of the values in the \"numage\" column.\n",
    "#- Your code here."
   ]
  },
  {
   "cell_type": "markdown",
   "id": "45045912",
   "metadata": {},
   "source": [
    "You will see that a few subjects have an age of 0.\n",
    "\n",
    "It looks as if the survey coders are using the value 0 to mean that the person\n",
    "did not state their age.  We will have to clean that up.  We do that by\n",
    "selecting the cases that have ages not equal to 0."
   ]
  },
  {
   "cell_type": "markdown",
   "id": "a89b3dff",
   "metadata": {},
   "source": [
    "Hint:  You have seen the operator to say whether two values are equal or no:"
   ]
  },
  {
   "cell_type": "code",
   "execution_count": null,
   "id": "856f9371",
   "metadata": {},
   "outputs": [],
   "source": [
    "1 == 2"
   ]
  },
  {
   "cell_type": "code",
   "execution_count": null,
   "id": "2972d417",
   "metadata": {},
   "outputs": [],
   "source": [
    "2 == 2"
   ]
  },
  {
   "cell_type": "markdown",
   "id": "40851145",
   "metadata": {},
   "source": [
    "The operator for *not equal* is `!=`, as in:"
   ]
  },
  {
   "cell_type": "code",
   "execution_count": null,
   "id": "11313418",
   "metadata": {},
   "outputs": [],
   "source": [
    "1 != 2"
   ]
  },
  {
   "cell_type": "markdown",
   "id": "299ece26",
   "metadata": {},
   "source": [
    "Prepare for brain-bending double negative..."
   ]
  },
  {
   "cell_type": "code",
   "execution_count": null,
   "id": "63677a80",
   "metadata": {},
   "outputs": [],
   "source": [
    "2 != 2"
   ]
  },
  {
   "cell_type": "markdown",
   "id": "a99e8ab5",
   "metadata": {},
   "source": [
    "To identify the values in `ages` that are *not equal* to 0, use the comparison\n",
    "I've hinted at above, to make a new variable, `age_not_0`, that has the same\n",
    "number of values as `ages`, and has `True` at positions where `ages` is *not\n",
    "equal* to 0, and `False` otherwise.   We will refer to these sequences of True\n",
    "and False values, as *Boolean vectors*.\n",
    "\n",
    "Check back to the [introduction to data frames](https:/olsonac.github.io/textbook/data-frames/data_frame_intro) page for a reminder of making and using\n",
    "Boolean vectors to select rows from data frames."
   ]
  },
  {
   "cell_type": "code",
   "execution_count": null,
   "id": "6b099e5f",
   "metadata": {},
   "outputs": [],
   "source": [
    "#- Create new variable \"age_not_0\", with True at positions where \"ages\" is not\n",
    "#- equal to 0, and False otherwise.\n",
    "age_not_0 = ...\n",
    "age_not_0"
   ]
  },
  {
   "cell_type": "code",
   "execution_count": null,
   "id": "699b0236",
   "metadata": {
    "lines_to_next_cell": 2
   },
   "outputs": [],
   "source": [
    "_ = ok.grade('q_age_not_0')"
   ]
  },
  {
   "cell_type": "markdown",
   "id": "207556e1",
   "metadata": {},
   "source": [
    "Use `age_not_0` to select rows in the `mini_brexit` data frame where the value\n",
    "is `True`, and throw away the rows where the value is `False`."
   ]
  },
  {
   "cell_type": "code",
   "execution_count": null,
   "id": "66db8398",
   "metadata": {},
   "outputs": [],
   "source": [
    "#- Select rows in the data frame where the age is not equal to 0.\n",
    "good_brexit = ...\n",
    "good_brexit"
   ]
  },
  {
   "cell_type": "code",
   "execution_count": null,
   "id": "a71fe42c",
   "metadata": {
    "lines_to_next_cell": 2
   },
   "outputs": [],
   "source": [
    "_ = ok.grade('q_good_brexit')"
   ]
  },
  {
   "cell_type": "markdown",
   "id": "68766ab4",
   "metadata": {},
   "source": [
    "Now we want to ask what proportion of the respondents said that they voted\n",
    "Remain or Leave.\n",
    "\n",
    "We begin by making a new data frame that contains only the rows for people who\n",
    "said they voted No in the referendum (remain).  Remember, from the data\n",
    "dictionary, that 1 is the code for a No vote.\n",
    "\n",
    "First, make a new variable `votes` that has the values of `cut15` column of\n",
    "the `good_brexit` data frame."
   ]
  },
  {
   "cell_type": "code",
   "execution_count": null,
   "id": "80a4d7b2",
   "metadata": {},
   "outputs": [],
   "source": [
    "votes = ...\n",
    "votes"
   ]
  },
  {
   "cell_type": "code",
   "execution_count": null,
   "id": "28074d11",
   "metadata": {
    "lines_to_next_cell": 2
   },
   "outputs": [],
   "source": [
    "_ = ok.grade('q_votes')"
   ]
  },
  {
   "cell_type": "markdown",
   "id": "99af0d03",
   "metadata": {},
   "source": [
    "Now make a new Boolean vector, that has True at the positions where `votes` is\n",
    "equal to 1, and False otherwise.  Call this variable `is_remain`."
   ]
  },
  {
   "cell_type": "code",
   "execution_count": null,
   "id": "d14d0d5f",
   "metadata": {},
   "outputs": [],
   "source": [
    "is_remain = ..."
   ]
  },
  {
   "cell_type": "code",
   "execution_count": null,
   "id": "03ae9a0d",
   "metadata": {
    "lines_to_next_cell": 2
   },
   "outputs": [],
   "source": [
    "_ = ok.grade('q_is_remain')"
   ]
  },
  {
   "cell_type": "markdown",
   "id": "711d1504",
   "metadata": {},
   "source": [
    "Next, use `is_remain` to select the rows in `good_brexit` that correspond to\n",
    "confessed \"Remain\" voters.  Call the new data frame `remainers`:"
   ]
  },
  {
   "cell_type": "code",
   "execution_count": null,
   "id": "523bc538",
   "metadata": {},
   "outputs": [],
   "source": [
    "remainers = ...\n",
    "remainers"
   ]
  },
  {
   "cell_type": "code",
   "execution_count": null,
   "id": "a11df7a5",
   "metadata": {
    "lines_to_next_cell": 2
   },
   "outputs": [],
   "source": [
    "_ = ok.grade('q_remainers')"
   ]
  },
  {
   "cell_type": "markdown",
   "id": "0a780224",
   "metadata": {},
   "source": [
    "Do a histogram of the values in the `numage` column of `remainers`:"
   ]
  },
  {
   "cell_type": "code",
   "execution_count": null,
   "id": "b0feed93",
   "metadata": {},
   "outputs": [],
   "source": [
    "#- Show a histogram of the `numage` column from `remainers`"
   ]
  },
  {
   "cell_type": "markdown",
   "id": "73cdff1e",
   "metadata": {},
   "source": [
    "Next, go through the same steps, to make a new data frame for those who\n",
    "claimed to vote Yes (leave) (code 2):"
   ]
  },
  {
   "cell_type": "code",
   "execution_count": null,
   "id": "5eb170ba",
   "metadata": {},
   "outputs": [],
   "source": [
    "#- Make a Boolean vector, called \"is_leave\", that True for Leave row, False\n",
    "#- otherwise.\n",
    "is_leave = ..."
   ]
  },
  {
   "cell_type": "code",
   "execution_count": null,
   "id": "b2dc8342",
   "metadata": {
    "lines_to_next_cell": 2
   },
   "outputs": [],
   "source": [
    "_ = ok.grade('q_is_leave')"
   ]
  },
  {
   "cell_type": "markdown",
   "id": "85237946",
   "metadata": {},
   "source": [
    "Next, use `is_leave` to select the rows in `good_brexit` that correspond to\n",
    "confessed \"Leave\" voters.  Call the new data frame `leavers`:"
   ]
  },
  {
   "cell_type": "code",
   "execution_count": null,
   "id": "43afb40c",
   "metadata": {},
   "outputs": [],
   "source": [
    "leavers = ..."
   ]
  },
  {
   "cell_type": "code",
   "execution_count": null,
   "id": "04379f2c",
   "metadata": {
    "lines_to_next_cell": 2
   },
   "outputs": [],
   "source": [
    "_ = ok.grade('q_leavers')"
   ]
  },
  {
   "cell_type": "markdown",
   "id": "ec9f1528",
   "metadata": {},
   "source": [
    "Do a histogram of the values in the `numage` column of `leavers`:"
   ]
  },
  {
   "cell_type": "code",
   "execution_count": null,
   "id": "1ef975e8",
   "metadata": {},
   "outputs": [],
   "source": [
    "#- Show a histogram of the `numage` column from `leavers`"
   ]
  },
  {
   "cell_type": "markdown",
   "id": "dc8fa073",
   "metadata": {},
   "source": [
    "Here is the total number of Remain voters:"
   ]
  },
  {
   "cell_type": "code",
   "execution_count": null,
   "id": "4b1d27be",
   "metadata": {},
   "outputs": [],
   "source": [
    "n_remain = len(remainers)\n",
    "n_remain"
   ]
  },
  {
   "cell_type": "markdown",
   "id": "dc3c2a18",
   "metadata": {},
   "source": [
    "Here is the total number of Leave voters:"
   ]
  },
  {
   "cell_type": "code",
   "execution_count": null,
   "id": "efcd2773",
   "metadata": {},
   "outputs": [],
   "source": [
    "n_leave = len(leavers)\n",
    "n_leave"
   ]
  },
  {
   "cell_type": "markdown",
   "id": "24d811d7",
   "metadata": {},
   "source": [
    "Here is the total number of voters who confessed to a specific Leave or Remain vote:"
   ]
  },
  {
   "cell_type": "code",
   "execution_count": null,
   "id": "1e4ccdba",
   "metadata": {},
   "outputs": [],
   "source": [
    "n_total = n_leave + n_remain\n",
    "n_total"
   ]
  },
  {
   "cell_type": "markdown",
   "id": "1514f7e6",
   "metadata": {},
   "source": [
    "Here is the proportion of Leave voters:"
   ]
  },
  {
   "cell_type": "code",
   "execution_count": null,
   "id": "3c614b48",
   "metadata": {},
   "outputs": [],
   "source": [
    "leave_proportion = n_leave / n_total\n",
    "leave_proportion"
   ]
  },
  {
   "cell_type": "markdown",
   "id": "e5d82f82",
   "metadata": {},
   "source": [
    "As you remember, the proportion of Leave voters in the referendum was 51.9%.\n",
    "`leave_proportion` from the survey seems a way off.  Is it too far off?\n",
    "\n",
    "You go back to the survey company and tell them that the proportion of Leave voters seems too low.\n",
    "\n",
    "They say the following:\n",
    "\n",
    "> We took a random sample of the population.  You are a data scientist, you\n",
    "> know well that the proportion from this random sample is very unlikely to be\n",
    "> exactly the same as the proportion in the whole population.  The proportion\n",
    "> we get is compatible with the variation we expect from taking a random\n",
    "> sample.\n",
    ">\n",
    "> In other words - the difference in the proportions, between the referendum\n",
    "> and the survey, is due to sampling error.\n",
    "\n",
    "Time for a simulation.\n",
    "\n",
    "The null hypothesis offered by the survey company is that the proportion we\n",
    "saw above is a plausible value if we took a random sample of `n_total` voters.\n",
    "\n",
    "We can simulate a new survey, with `n_total` voters, by taking `n_total`\n",
    "random numbers between 0 and 1.  We consider the values less than 0.52 as\n",
    "corresponding to a Leave vote, and the rest are Remain votes.  We then\n",
    "calculate the proportion of Leave votes (proportion of values where value <\n",
    "0\\.519 == True).\n",
    "\n",
    "We do this 10000 times, to get 10000 simulated surveys.  We calculate the\n",
    "proportions for each simulated survey, and do a histogram of the proportions.\n",
    "Is `leave_proportion` a plausible value on this histogram?\n",
    "\n",
    "See:\n",
    "\n",
    "* [Reply to the Supreme Court](https:/olsonac.github.io/textbook/iteration/reply_supreme)\n",
    "* [Final three girls simulation](https:/olsonac.github.io/textbook/arrays/filling_arrays)\n",
    "\n",
    "to remind yourself about simulations.\n",
    "\n",
    "Your simulation should calculate 10000 simulated proportions, and store them\n",
    "in an array called `simulated_proportion`.\n",
    "\n",
    "Hint: In the next cell, I generate a random number between 0 and 1, and then\n",
    "see whether it is less than 0.4.  The chances that any one random number *is* less than 0.4 is 0.4.  So I have a 0.4 chance of seeing True below:"
   ]
  },
  {
   "cell_type": "code",
   "execution_count": null,
   "id": "e426e022",
   "metadata": {},
   "outputs": [],
   "source": [
    "random_no = np.random.uniform(0, 1)\n",
    "random_no < 0.4"
   ]
  },
  {
   "cell_type": "markdown",
   "id": "c3ccb891",
   "metadata": {},
   "source": [
    "As usual, we start with a cell to do the simulation for a single trial."
   ]
  },
  {
   "cell_type": "code",
   "execution_count": null,
   "id": "1e5622df",
   "metadata": {},
   "outputs": [],
   "source": [
    "#- Logic for a single trial.\n",
    "#- One trial is n_total voters.\n",
    "random_votes = np.random.uniform...\n",
    "#- Convert to an array of n_total Boolean (True / False) values.\n",
    "leaves = ...\n",
    "#- Calculate the proportion of Trues.\n",
    "prop = ...\n",
    "# Show the result.  The proportion should be somewhere between 0 and 1, but\n",
    "# usually close to the population proportion of 0.519.\n",
    "prop"
   ]
  },
  {
   "cell_type": "markdown",
   "id": "63ff4133",
   "metadata": {},
   "source": [
    "Now put this logic into a for-loop to do the whole simulation, for 10000\n",
    "trials."
   ]
  },
  {
   "cell_type": "code",
   "execution_count": null,
   "id": "6a00de27",
   "metadata": {},
   "outputs": [],
   "source": [
    "#- Your simulation here\n",
    "simulated_proportions = ...\n",
    "# Show the first 5 simulated_proportion values\n",
    "simulated_proportions[:5]"
   ]
  },
  {
   "cell_type": "code",
   "execution_count": null,
   "id": "a156f937",
   "metadata": {},
   "outputs": [],
   "source": [
    "_ = ok.grade('q_simulated_proportions')"
   ]
  },
  {
   "cell_type": "markdown",
   "id": "77cdde1f",
   "metadata": {},
   "source": [
    "Do a histogram of `simulated_proportions` below.  What do you think of the survey company's explanation?"
   ]
  },
  {
   "cell_type": "code",
   "execution_count": null,
   "id": "5fd72495",
   "metadata": {},
   "outputs": [],
   "source": [
    "plt.hist(simulated_proportions, label = 'simulated proportions')\n",
    "# do not worry about this code for now. It just plots the actual proportion of leavers in the survey sample, and adds some labels to your histogram\n",
    "fontsize = {'fontsize': 11}\n",
    "plt.xlabel('Proportion of leavers', **fontsize)\n",
    "plt.ylabel('Number of times obtained in simulation', **fontsize)\n",
    "plt.plot(leave_proportion, 20, 'o', markersize = 10, color = 'red', label = 'actual proportion of leavers')\n",
    "plt.legend(loc = 'upper left', **fontsize)"
   ]
  },
  {
   "cell_type": "markdown",
   "id": "d311ffb9",
   "metadata": {},
   "source": [
    "## Done"
   ]
  },
  {
   "cell_type": "markdown",
   "id": "a293e477",
   "metadata": {},
   "source": [
    "You're finished with the assignment!  Be sure to...\n",
    "\n",
    "- **run all the tests** (the next cell has a shortcut for that),\n",
    "- **Save and Checkpoint** from the  menu."
   ]
  },
  {
   "cell_type": "code",
   "execution_count": null,
   "id": "710b8052",
   "metadata": {},
   "outputs": [],
   "source": [
    "# For your convenience, you can run this cell to run all the tests at once!\n",
    "import os\n",
    "_ = [ok.grade(q[:-3]) for q in os.listdir(\"tests\") if q.startswith('q')]"
   ]
  }
 ],
 "metadata": {
  "jupytext": {
   "text_representation": {
    "extension": ".Rmd",
    "format_name": "rmarkdown",
    "format_version": "1.2",
    "jupytext_version": "1.10.3"
   }
  },
  "kernelspec": {
   "display_name": "Python 3 (ipykernel)",
   "language": "python",
   "name": "python3"
  }
 },
 "nbformat": 4,
 "nbformat_minor": 5
}
