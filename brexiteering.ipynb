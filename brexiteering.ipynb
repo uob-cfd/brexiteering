{
 "cells": [
  {
   "cell_type": "markdown",
   "id": "3e82ef2e",
   "metadata": {},
   "source": [
    "# Brexit - the data analysis\n",
    "\n",
    "We start, as usual, by importing all the libraries we need."
   ]
  },
  {
   "cell_type": "code",
   "execution_count": null,
   "id": "269e99f0",
   "metadata": {},
   "outputs": [],
   "source": [
    "# Import Numpy library, rename as \"np\"\n",
    "import numpy as np\n",
    "# Import Pandas library, rename as \"pd\"\n",
    "import pandas as pd\n",
    "# Turn on a setting to use Pandas more safely.\n",
    "# We will discuss this setting later.\n",
    "pd.set_option('mode.chained_assignment', 'raise')"
   ]
  },
  {
   "cell_type": "code",
   "execution_count": null,
   "id": "c23a60df",
   "metadata": {},
   "outputs": [],
   "source": [
    "# Also - set up plotting\n",
    "import matplotlib.pyplot as plt\n",
    "%matplotlib inline\n",
    "plt.style.use('fivethirtyeight')"
   ]
  },
  {
   "cell_type": "markdown",
   "id": "784a81c7",
   "metadata": {},
   "source": [
    "Then load the test library to run the tests for your answers."
   ]
  },
  {
   "cell_type": "code",
   "execution_count": null,
   "id": "03aa031e",
   "metadata": {},
   "outputs": [],
   "source": [
    "# Load the OKpy test library and tests.\n",
    "from client.api.notebook import Notebook\n",
    "ok = Notebook('brexiteering.ok')"
   ]
  },
  {
   "cell_type": "markdown",
   "id": "14015925",
   "metadata": {},
   "source": [
    "See the [Brexit survey](https:/olsonac.github.io/textbook/data/brexit_survey) for details on the survey data.\n",
    "\n",
    "If you unpacked this notebook from an OKpy exercise zip, you should have this\n",
    "file in the same directory as the notebook.  If not, you can [download the\n",
    "data file](https:/olsonac.github.io/textbook/data/audit_of_political_engagement_14_2017.tab)\n",
    "to this directory.\n",
    "\n",
    "In the moment, we are going to try and analyze these data.  We will focus on\n",
    "two questions labeled `cut15` and `numage`.  `cut15` is the question about\n",
    "Brexit. The data dictionary has the *variable label* “CUT15 - How did you vote\n",
    "on the question ‘Should the United Kingdom remain a member of the European\n",
    "Union or leave the European Union’?”.  The recorded values run from 1 through\n",
    "6 and have the following labels:\n",
    "\n",
    "```\n",
    "Value label information for cut15\n",
    "Value = 1.0    Label = Remain a member of the European Union\n",
    "Value = 2.0    Label = Leave the European Union\n",
    "Value = 3.0    Label = Did not vote\n",
    "Value = 4.0    Label = Too young\n",
    "Value = 5.0    Label = Can't remember\n",
    "Value = 6.0    Label = Refused\n",
    "```\n",
    "\n",
    "We also want the variable `numage`; this is the age of the respondent in years."
   ]
  },
  {
   "cell_type": "markdown",
   "id": "99c2326d",
   "metadata": {},
   "source": [
    "The data file that is `audit_of_political_engagement_14_2017.tab`.  The cell\n",
    "below loads the data file into memory with Pandas:\n",
    "\n",
    "Notice the `.tab` extension for this file.  This file is just like the `.csv`\n",
    "(Comma Separated Values) files you have already seen, but the values are\n",
    "separated by a different character. Instead of being separated by commas ---\n",
    "`,` --- they are separated by a character called Tab.  We tell Pandas about\n",
    "this in the cell below."
   ]
  },
  {
   "cell_type": "code",
   "execution_count": null,
   "id": "594c8527",
   "metadata": {},
   "outputs": [],
   "source": [
    "# Load the data frame, and put it in the variable \"audit_data\"\n",
    "# The values are SEParated by Tabs - \\t in the code below.\n",
    "audit_data = pd.read_csv('audit_of_political_engagement_14_2017.tab',\n",
    "                         sep='\\t')\n",
    "# Show the first 5 rows.\n",
    "audit_data.head()"
   ]
  },
  {
   "cell_type": "markdown",
   "id": "efd958aa",
   "metadata": {},
   "source": [
    "As you know, we now have a *data frame*:"
   ]
  },
  {
   "cell_type": "code",
   "execution_count": null,
   "id": "106ae918",
   "metadata": {},
   "outputs": [],
   "source": [
    "type(audit_data)"
   ]
  },
  {
   "cell_type": "markdown",
   "id": "306ead33",
   "metadata": {},
   "source": [
    "The data frame has one row per person surveyed, and one column for each\n",
    "question in the survey.  The columns have kind-of helpful names that you can\n",
    "read about in the data dictionary."
   ]
  },
  {
   "cell_type": "markdown",
   "id": "b274c2cc",
   "metadata": {},
   "source": [
    "The data frame has columns for all the questions listed in the data\n",
    "dictionary:"
   ]
  },
  {
   "cell_type": "code",
   "execution_count": null,
   "id": "c2f969a2",
   "metadata": {},
   "outputs": [],
   "source": [
    "audit_data.columns"
   ]
  },
  {
   "cell_type": "markdown",
   "id": "00badba8",
   "metadata": {},
   "source": [
    "To reduce clutter, we first make a new data frame that just has the two\n",
    "questions we are interested in:\n"
   ]
  },
  {
   "cell_type": "code",
   "execution_count": null,
   "id": "67da356f",
   "metadata": {},
   "outputs": [],
   "source": [
    "# Select the age and Brexit vote questions only\n",
    "# Don't worry about the details of this cell, we will cover this later.\n",
    "mini_brexit = pd.DataFrame()\n",
    "mini_brexit['numage'] = audit_data['numage'].copy()\n",
    "mini_brexit['cut15'] = audit_data['cut15'].copy()\n",
    "mini_brexit.head()"
   ]
  },
  {
   "cell_type": "markdown",
   "id": "9d1e8598",
   "metadata": {},
   "source": [
    "To get started on exploring, we make a new variable `ages` that refers to the\n",
    "`numage` column in the `mini_brexit` data frame."
   ]
  },
  {
   "cell_type": "code",
   "execution_count": null,
   "id": "903e11f8",
   "metadata": {},
   "outputs": [],
   "source": [
    "# Make a new variable \"ages\" that refers to the \"numage\" column in\n",
    "# \"mini_brexit\"\n",
    "ages = mini_brexit[\"numage\"]"
   ]
  },
  {
   "cell_type": "markdown",
   "id": "1c92188b",
   "metadata": {},
   "source": [
    "Confirm that `ages` has a value of type `Series`, the Pandas type for a column of a data frame:"
   ]
  },
  {
   "cell_type": "code",
   "execution_count": null,
   "id": "bbfbb733",
   "metadata": {},
   "outputs": [],
   "source": [
    "type(ages)"
   ]
  },
  {
   "cell_type": "markdown",
   "id": "c9fc67e9",
   "metadata": {},
   "source": [
    "Here are the numbers of rows, columns in the original data frame:"
   ]
  },
  {
   "cell_type": "code",
   "execution_count": null,
   "id": "a6aaac02",
   "metadata": {},
   "outputs": [],
   "source": [
    "audit_data.shape"
   ]
  },
  {
   "cell_type": "markdown",
   "id": "e11a22e2",
   "metadata": {},
   "source": [
    "Run the cell below to confirm that `ages` has the same number of values, as\n",
    "`audit_data` has rows.  To do this, we can use the `len` function, as applied\n",
    "to the `ages` Series.  It returns the number of values."
   ]
  },
  {
   "cell_type": "code",
   "execution_count": null,
   "id": "6406ae3b",
   "metadata": {},
   "outputs": [],
   "source": [
    "len(ages)"
   ]
  },
  {
   "cell_type": "markdown",
   "id": "de186669",
   "metadata": {},
   "source": [
    "In fact, `len`, as applied to the *data frame*, returns the number of rows:"
   ]
  },
  {
   "cell_type": "code",
   "execution_count": null,
   "id": "3ab6924a",
   "metadata": {},
   "outputs": [],
   "source": [
    "len(audit_data)"
   ]
  },
  {
   "cell_type": "markdown",
   "id": "060c60da",
   "metadata": {},
   "source": [
    "Start by doing a histogram of the values in `ages` (which are also the values\n",
    "in the `numage` column of `mini_brexit`).  If you can't remember how to do\n",
    "histograms, have a look at the [introduction to data\n",
    "frames](https:/olsonac.github.io/textbook/data-frames/data_frame_intro)\n",
    "notebook.   Hint: consider using the `hist`\n",
    "method of the `ages` variable."
   ]
  },
  {
   "cell_type": "code",
   "execution_count": null,
   "id": "6156818a",
   "metadata": {},
   "outputs": [],
   "source": [
    "#- Do a histogram of the values in the \"numage\" column.\n",
    "#- Your code here."
   ]
  },
  {
   "cell_type": "markdown",
   "id": "92030264",
   "metadata": {},
   "source": [
    "You will see that a few subjects have an age of 0.\n",
    "\n",
    "It looks as if the survey coders are using the value 0 to mean that the person\n",
    "did not state their age.  We will have to clean that up.  We do that by\n",
    "selecting the cases that have ages not equal to 0."
   ]
  },
  {
   "cell_type": "markdown",
   "id": "c7d11874",
   "metadata": {},
   "source": [
    "Hint:  You have seen the operator to say whether two values are equal or no:"
   ]
  },
  {
   "cell_type": "code",
   "execution_count": null,
   "id": "769dd87a",
   "metadata": {},
   "outputs": [],
   "source": [
    "1 == 2"
   ]
  },
  {
   "cell_type": "code",
   "execution_count": null,
   "id": "59084f15",
   "metadata": {},
   "outputs": [],
   "source": [
    "2 == 2"
   ]
  },
  {
   "cell_type": "markdown",
   "id": "25cb65a4",
   "metadata": {},
   "source": [
    "The operator for *not equal* is `!=`, as in:"
   ]
  },
  {
   "cell_type": "code",
   "execution_count": null,
   "id": "70329e4d",
   "metadata": {},
   "outputs": [],
   "source": [
    "1 != 2"
   ]
  },
  {
   "cell_type": "markdown",
   "id": "ebc223af",
   "metadata": {},
   "source": [
    "Prepare for brain-bending double negative..."
   ]
  },
  {
   "cell_type": "code",
   "execution_count": null,
   "id": "44319dfc",
   "metadata": {},
   "outputs": [],
   "source": [
    "2 != 2"
   ]
  },
  {
   "cell_type": "markdown",
   "id": "c49ef8b9",
   "metadata": {},
   "source": [
    "To identify the values in `ages` that are *not equal* to 0, use the comparison\n",
    "I've hinted at above, to make a new variable, `age_not_0`, that has the same\n",
    "number of values as `ages`, and has `True` at positions where `ages` is *not\n",
    "equal* to 0, and `False` otherwise.   We will refer to these sequences of True\n",
    "and False values, as *Boolean vectors*.\n",
    "\n",
    "Check back to the [introduction to data frames](https:/olsonac.github.io/textbook/data-frames/data_frame_intro) page for a reminder of making and using\n",
    "Boolean vectors to select rows from data frames."
   ]
  },
  {
   "cell_type": "code",
   "execution_count": null,
   "id": "3acddcc4",
   "metadata": {},
   "outputs": [],
   "source": [
    "#- Create new variable \"age_not_0\", with True at positions where \"ages\" is not\n",
    "#- equal to 0, and False otherwise.\n",
    "age_not_0 = ...\n",
    "age_not_0"
   ]
  },
  {
   "cell_type": "code",
   "execution_count": null,
   "id": "992d583e",
   "metadata": {
    "lines_to_next_cell": 2
   },
   "outputs": [],
   "source": [
    "_ = ok.grade('q_age_not_0')"
   ]
  },
  {
   "cell_type": "markdown",
   "id": "3d596118",
   "metadata": {},
   "source": [
    "Use `age_not_0` to select rows in the `mini_brexit` data frame where the value\n",
    "is `True`, and throw away the rows where the value is `False`."
   ]
  },
  {
   "cell_type": "code",
   "execution_count": null,
   "id": "8ac6cad5",
   "metadata": {},
   "outputs": [],
   "source": [
    "#- Select rows in the data frame where the age is not equal to 0.\n",
    "good_brexit = ...\n",
    "good_brexit"
   ]
  },
  {
   "cell_type": "code",
   "execution_count": null,
   "id": "9e7134d6",
   "metadata": {
    "lines_to_next_cell": 2
   },
   "outputs": [],
   "source": [
    "_ = ok.grade('q_good_brexit')"
   ]
  },
  {
   "cell_type": "markdown",
   "id": "f4eaebba",
   "metadata": {},
   "source": [
    "Now we want to ask what proportion of the respondents said that they voted\n",
    "Remain or Leave.\n",
    "\n",
    "We begin by making a new data frame that contains only the rows for people who\n",
    "said they voted No in the referendum (remain).  Remember, from the data\n",
    "dictionary, that 1 is the code for a No vote.\n",
    "\n",
    "First, make a new variable `votes` that has the values of `cut15` column of\n",
    "the `good_brexit` data frame."
   ]
  },
  {
   "cell_type": "code",
   "execution_count": null,
   "id": "ada4a77c",
   "metadata": {},
   "outputs": [],
   "source": [
    "votes = ...\n",
    "votes"
   ]
  },
  {
   "cell_type": "code",
   "execution_count": null,
   "id": "5599c0f4",
   "metadata": {
    "lines_to_next_cell": 2
   },
   "outputs": [],
   "source": [
    "_ = ok.grade('q_votes')"
   ]
  },
  {
   "cell_type": "markdown",
   "id": "8518a966",
   "metadata": {},
   "source": [
    "Now make a new Boolean vector, that has True at the positions where `votes` is\n",
    "equal to 1, and False otherwise.  Call this variable `is_remain`."
   ]
  },
  {
   "cell_type": "code",
   "execution_count": null,
   "id": "a2ee7d06",
   "metadata": {},
   "outputs": [],
   "source": [
    "is_remain = ..."
   ]
  },
  {
   "cell_type": "code",
   "execution_count": null,
   "id": "0df95953",
   "metadata": {
    "lines_to_next_cell": 2
   },
   "outputs": [],
   "source": [
    "_ = ok.grade('q_is_remain')"
   ]
  },
  {
   "cell_type": "markdown",
   "id": "0e979ccf",
   "metadata": {},
   "source": [
    "Next, use `is_remain` to select the rows in `good_brexit` that correspond to\n",
    "confessed \"Remain\" voters.  Call the new data frame `remainers`:"
   ]
  },
  {
   "cell_type": "code",
   "execution_count": null,
   "id": "3c2ca732",
   "metadata": {},
   "outputs": [],
   "source": [
    "remainers = ...\n",
    "remainers"
   ]
  },
  {
   "cell_type": "code",
   "execution_count": null,
   "id": "511d1172",
   "metadata": {
    "lines_to_next_cell": 2
   },
   "outputs": [],
   "source": [
    "_ = ok.grade('q_remainers')"
   ]
  },
  {
   "cell_type": "markdown",
   "id": "429f8bcc",
   "metadata": {},
   "source": [
    "Do a histogram of the values in the `numage` column of `remainers`:"
   ]
  },
  {
   "cell_type": "code",
   "execution_count": null,
   "id": "ce378481",
   "metadata": {},
   "outputs": [],
   "source": [
    "#- Show a histogram of the `numage` column from `remainers`"
   ]
  },
  {
   "cell_type": "markdown",
   "id": "7fa6fa30",
   "metadata": {},
   "source": [
    "Next, go through the same steps, to make a new data frame for those who\n",
    "claimed to vote Yes (leave) (code 2):"
   ]
  },
  {
   "cell_type": "code",
   "execution_count": null,
   "id": "f6b37dfd",
   "metadata": {},
   "outputs": [],
   "source": [
    "#- Make a Boolean vector, called \"is_leave\", that True for Leave row, False\n",
    "#- otherwise.\n",
    "is_leave = ..."
   ]
  },
  {
   "cell_type": "code",
   "execution_count": null,
   "id": "9d327c8a",
   "metadata": {
    "lines_to_next_cell": 2
   },
   "outputs": [],
   "source": [
    "_ = ok.grade('q_is_leave')"
   ]
  },
  {
   "cell_type": "markdown",
   "id": "af9d229b",
   "metadata": {},
   "source": [
    "Next, use `is_leave` to select the rows in `good_brexit` that correspond to\n",
    "confessed \"Leave\" voters.  Call the new data frame `leavers`:"
   ]
  },
  {
   "cell_type": "code",
   "execution_count": null,
   "id": "f4bd07af",
   "metadata": {},
   "outputs": [],
   "source": [
    "leavers = ..."
   ]
  },
  {
   "cell_type": "code",
   "execution_count": null,
   "id": "b930956e",
   "metadata": {
    "lines_to_next_cell": 2
   },
   "outputs": [],
   "source": [
    "_ = ok.grade('q_leavers')"
   ]
  },
  {
   "cell_type": "markdown",
   "id": "c562ce81",
   "metadata": {},
   "source": [
    "Do a histogram of the values in the `numage` column of `leavers`:"
   ]
  },
  {
   "cell_type": "code",
   "execution_count": null,
   "id": "f6acb539",
   "metadata": {},
   "outputs": [],
   "source": [
    "#- Show a histogram of the `numage` column from `leavers`"
   ]
  },
  {
   "cell_type": "markdown",
   "id": "04ae70cf",
   "metadata": {},
   "source": [
    "Here is the total number of Remain voters:"
   ]
  },
  {
   "cell_type": "code",
   "execution_count": null,
   "id": "11db5b73",
   "metadata": {},
   "outputs": [],
   "source": [
    "n_remain = len(remainers)\n",
    "n_remain"
   ]
  },
  {
   "cell_type": "markdown",
   "id": "4e457b72",
   "metadata": {},
   "source": [
    "Here is the total number of Leave voters:"
   ]
  },
  {
   "cell_type": "code",
   "execution_count": null,
   "id": "4be3ad39",
   "metadata": {},
   "outputs": [],
   "source": [
    "n_leave = len(leavers)\n",
    "n_leave"
   ]
  },
  {
   "cell_type": "markdown",
   "id": "5d3690d6",
   "metadata": {},
   "source": [
    "Here is the total number of voters who confessed to a specific Leave or Remain vote:"
   ]
  },
  {
   "cell_type": "code",
   "execution_count": null,
   "id": "dd7822c1",
   "metadata": {},
   "outputs": [],
   "source": [
    "n_total = n_leave + n_remain\n",
    "n_total"
   ]
  },
  {
   "cell_type": "markdown",
   "id": "b9383ab6",
   "metadata": {},
   "source": [
    "Here is the proportion of Leave voters:"
   ]
  },
  {
   "cell_type": "code",
   "execution_count": null,
   "id": "0bd243c5",
   "metadata": {},
   "outputs": [],
   "source": [
    "leave_proportion = n_leave / n_total\n",
    "leave_proportion"
   ]
  },
  {
   "cell_type": "markdown",
   "id": "e5167564",
   "metadata": {},
   "source": [
    "As you remember, the proportion of Leave voters in the referendum was 51.9%.\n",
    "`leave_proportion` from the survey seems a way off.  Is it too far off?\n",
    "\n",
    "You go back to the survey company and tell them that the proportion of Leave voters seems too low.\n",
    "\n",
    "They say the following:\n",
    "\n",
    "> We took a random sample of the population.  You are a data scientist, you\n",
    "> know well that the proportion from this random sample is very unlikely to be\n",
    "> exactly the same as the proportion in the whole population.  The proportion\n",
    "> we get is compatible with the variation we expect from taking a random\n",
    "> sample.\n",
    ">\n",
    "> In other words - the difference in the proportions, between the referendum\n",
    "> and the survey, is due to sampling error.\n",
    "\n",
    "Time for a simulation.\n",
    "\n",
    "The null hypothesis offered by the survey company is that the proportion we\n",
    "saw above is a plausible value if we took a random sample of `n_total` voters.\n",
    "\n",
    "We can simulate a new survey, with `n_total` voters, by taking `n_total`\n",
    "random numbers between 0 and 1.  We consider the values less than 0.52 as\n",
    "corresponding to a Leave vote, and the rest are Remain votes.  We then\n",
    "calculate the proportion of Leave votes (proportion of values where value <\n",
    "0\\.519 == True).\n",
    "\n",
    "We do this 10000 times, to get 10000 simulated surveys.  We calculate the\n",
    "proportions for each simulated survey, and do a histogram of the proportions.\n",
    "Is `leave_proportion` a plausible value on this histogram?\n",
    "\n",
    "See:\n",
    "\n",
    "* [Reply to the Supreme Court](https:/olsonac.github.io/textbook/iteration/reply_supreme)\n",
    "* [Final three girls simulation](https:/olsonac.github.io/textbook/arrays/filling_arrays)\n",
    "\n",
    "to remind yourself about simulations.\n",
    "\n",
    "Your simulation should calculate 10000 simulated proportions, and store them\n",
    "in an array called `simulated_proportion`.\n",
    "\n",
    "Hint: In the next cell, I generate a random number between 0 and 1, and then\n",
    "see whether it is less than 0.4.  The chances that any one random number *is* less than 0.4 is 0.4.  So I have a 0.4 chance of seeing True below:"
   ]
  },
  {
   "cell_type": "code",
   "execution_count": null,
   "id": "dccc650c",
   "metadata": {},
   "outputs": [],
   "source": [
    "random_no = np.random.uniform(0, 1)\n",
    "random_no < 0.4"
   ]
  },
  {
   "cell_type": "markdown",
   "id": "3e2d79d7",
   "metadata": {},
   "source": [
    "As usual, we start with a cell to do the simulation for a single trial."
   ]
  },
  {
   "cell_type": "code",
   "execution_count": null,
   "id": "227d0119",
   "metadata": {},
   "outputs": [],
   "source": [
    "#- Logic for a single trial.\n",
    "#- One trial is n_total voters.\n",
    "random_votes = np.random.uniform...\n",
    "#- Convert to an array of n_total Boolean (True / False) values.\n",
    "leaves = ...\n",
    "#- Calculate the proportion of Trues.\n",
    "prop = ...\n",
    "# Show the result.  The proportion should be somewhere between 0 and 1, but\n",
    "# usually close to the population proportion of 0.519.\n",
    "prop"
   ]
  },
  {
   "cell_type": "markdown",
   "id": "034f48b9",
   "metadata": {},
   "source": [
    "Now put this logic into a for-loop to do the whole simulation, for 10000\n",
    "trials."
   ]
  },
  {
   "cell_type": "code",
   "execution_count": null,
   "id": "a03c7ce1",
   "metadata": {},
   "outputs": [],
   "source": [
    "#- Your simulation here\n",
    "simulated_proportions = ...\n",
    "# Show the first 5 simulated_proportion values\n",
    "simulated_proportions[:5]"
   ]
  },
  {
   "cell_type": "code",
   "execution_count": null,
   "id": "fa3157ab",
   "metadata": {},
   "outputs": [],
   "source": [
    "_ = ok.grade('q_simulated_proportions')"
   ]
  },
  {
   "cell_type": "markdown",
   "id": "1951ca09",
   "metadata": {},
   "source": [
    "Do a histogram of `simulated_proportions` below.  What do you think of the survey company's explanation?"
   ]
  },
  {
   "cell_type": "code",
   "execution_count": null,
   "id": "913162df",
   "metadata": {},
   "outputs": [],
   "source": [
    "plt.hist(simulated_proportions, label = 'simulated proportions')\n",
    "# do not worry about this code for now. It just plots the actual proportion of leavers in the survey sample, and adds some labels to your histogram\n",
    "fontsize = {'fontsize': 11}\n",
    "plt.xlabel('Proportion of leavers', **fontsize)\n",
    "plt.ylabel('Number of times obtained in simulation', **fontsize)\n",
    "plt.plot(leave_proportion, 20, 'o', markersize = 10, color = 'red', label = 'actual proportion of leavers')\n",
    "plt.legend(loc = 'upper left', **fontsize)"
   ]
  },
  {
   "cell_type": "markdown",
   "id": "f9012686",
   "metadata": {},
   "source": [
    "OPTIONAL EXTRA: trying pasting the following code in the cell above, after the code for the histogram you just plotted. Re-run the cell after you have pasted the code. 
    It will plot the actual proportion of leavers as a red dot, so you can see how different/similar it is to the proportions we obtained in the simulation." 
   ]
  },
  { "cell_type": "code",
   "execution_count": null,
   "metadata": {},
   "outputs": [],
   "source": [
    "# do not worry about this code for now. It just plots the actual proportion of leavers in the survey sample, and adds some labels to your histogram
     fontsize = {'fontsize': 11}
     plt.xlabel('Proportion', **fontsize)
     plt.ylabel('Number of times obtained in simulation', **fontsize)
     plt.plot(leave_proportion, 20, 'o', markersize = 10, color = 'red', label = 'actual proportion of leavers')
     plt.legend(loc = 'upper left', **fontsize)"
   ]
  },
  {
   "cell_type": "markdown",
   "metadata": {},
   "source": [
    "## Done"
   ]
  },
  {
   "cell_type": "markdown",
   "id": "64993866",
   "metadata": {},
   "source": [
    "You're finished with the assignment!  Be sure to...\n",
    "\n",
    "- **run all the tests** (the next cell has a shortcut for that),\n",
    "- **Save and Checkpoint** from the  menu."
   ]
  },
  {
   "cell_type": "code",
   "execution_count": null,
   "id": "809187e7",
   "metadata": {},
   "outputs": [],
   "source": [
    "# For your convenience, you can run this cell to run all the tests at once!\n",
    "import os\n",
    "_ = [ok.grade(q[:-3]) for q in os.listdir(\"tests\") if q.startswith('q')]"
   ]
  }
 ],
 "metadata": {
  "jupytext": {
   "text_representation": {
    "extension": ".Rmd",
    "format_name": "rmarkdown",
    "format_version": "1.2",
    "jupytext_version": "1.10.3"
   }
  },
  "kernelspec": {
   "display_name": "Python 3 (ipykernel)",
   "language": "python",
   "name": "python3"
  }
 },
 "nbformat": 4,
 "nbformat_minor": 5
}
